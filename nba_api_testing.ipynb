{
 "cells": [
  {
   "cell_type": "code",
   "execution_count": null,
   "id": "1f42c77c",
   "metadata": {},
   "outputs": [],
   "source": [
    "!pip install nba_api"
   ]
  },
  {
   "cell_type": "code",
   "execution_count": 2,
   "id": "b5aa762a",
   "metadata": {},
   "outputs": [],
   "source": [
    "import numpy as np\n",
    "import pandas as pd\n",
    "import warnings\n",
    "warnings.filterwarnings('ignore')\n",
    "import requests\n",
    "from bs4 import BeautifulSoup"
   ]
  },
  {
   "cell_type": "markdown",
   "id": "e2a687df",
   "metadata": {},
   "source": [
    "#### Testing out from Video (https://www.youtube.com/watch?v=IELK56jIsEo)"
   ]
  },
  {
   "cell_type": "code",
   "execution_count": 3,
   "id": "b9b2488e",
   "metadata": {},
   "outputs": [],
   "source": [
    "season_id = '2021-22'\n",
    "per_mode = 'Totals'\n",
    "\n",
    "headers  = {\n",
    "    'Connection': 'keep-alive',\n",
    "    'Accept': 'application/json, text/plain, */*',\n",
    "    'x-nba-stats-token': 'true',\n",
    "    'User-Agent': 'Mozilla/5.0 (Macintosh; Intel Mac OS X 10_14_6) AppleWebKit/537.36 (KHTML, like Gecko) Chrome/79.0.3945.130 Safari/537.36',\n",
    "    'x-nba-stats-origin': 'stats',\n",
    "    'Sec-Fetch-Site': 'same-origin',\n",
    "    'Sec-Fetch-Mode': 'cors',\n",
    "    'Referer': 'https://stats.nba.com/',\n",
    "    'Accept-Encoding': 'gzip, deflate, br',\n",
    "    'Accept-Language': 'en-US,en;q=0.9',\n",
    "}\n",
    "\n",
    "player_info_url = 'https://stats.nba.com/stats/leaguedashplayerstats?College=&Conference=&Country=&DateFrom=&DateTo=&Division=&DraftPick=&DraftYear=&GameScope=&GameSegment=&Height=&LastNGames=0&LeagueID=00&Location=&MeasureType=Base&Month=0&OpponentTeamID=0&Outcome=&PORound=0&PaceAdjust=N&PerMode='+per_mode+'&Period=0&PlayerExperience=&PlayerPosition=&PlusMinus=N&Rank=N&Season='+season_id+'&SeasonSegment=&SeasonType=Regular+Season&ShotClockRange=&StarterBench=&TeamID=0&TwoWay=0&VsConference=&VsDivision=&Weight='"
   ]
  },
  {
   "cell_type": "code",
   "execution_count": 4,
   "id": "57e5150a",
   "metadata": {},
   "outputs": [],
   "source": [
    "response = requests.get(url=player_info_url, headers=headers).json()"
   ]
  },
  {
   "cell_type": "code",
   "execution_count": null,
   "id": "d1604e62",
   "metadata": {},
   "outputs": [],
   "source": [
    "player_info = response['resultSets'][0]['rowSet']\n",
    "column_list = response['resultSets'][0]['headers']"
   ]
  },
  {
   "cell_type": "code",
   "execution_count": null,
   "id": "4254b397",
   "metadata": {},
   "outputs": [],
   "source": [
    "nba_df = pd.DataFrame(player_info, columns=column_list)\n",
    "nba_df"
   ]
  },
  {
   "cell_type": "code",
   "execution_count": null,
   "id": "8a2b037b",
   "metadata": {},
   "outputs": [],
   "source": []
  }
 ],
 "metadata": {
  "hide_input": false,
  "kernelspec": {
   "display_name": "Python 3",
   "language": "python",
   "name": "python3"
  },
  "language_info": {
   "codemirror_mode": {
    "name": "ipython",
    "version": 3
   },
   "file_extension": ".py",
   "mimetype": "text/x-python",
   "name": "python",
   "nbconvert_exporter": "python",
   "pygments_lexer": "ipython3",
   "version": "3.8.8"
  }
 },
 "nbformat": 4,
 "nbformat_minor": 5
}
